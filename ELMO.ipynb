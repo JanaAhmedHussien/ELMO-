{
  "nbformat": 4,
  "nbformat_minor": 0,
  "metadata": {
    "colab": {
      "provenance": []
    },
    "kernelspec": {
      "name": "python3",
      "display_name": "Python 3"
    },
    "language_info": {
      "name": "python"
    }
  },
  "cells": [
    {
      "cell_type": "markdown",
      "source": [
        "Task 1: ELMo Embedding Generation:"
      ],
      "metadata": {
        "id": "ihsdhB6o0L0Y"
      }
    },
    {
      "cell_type": "code",
      "execution_count": null,
      "metadata": {
        "id": "drnNB8hL0AHo"
      },
      "outputs": [],
      "source": [
        "# Import the necessary libraries: tensorflow, tensorflow_hub, and numpy.\n",
        "import tensorflow as tf\n",
        "import tensorflow_hub as hub\n",
        "import numpy as np"
      ]
    },
    {
      "cell_type": "code",
      "source": [
        "# Load the ELMo model from the TensorFlow Hub.\n",
        "elmo = hub.load(\"https://tfhub.dev/google/elmo/3\")"
      ],
      "metadata": {
        "id": "NblVtrCD0VQa"
      },
      "execution_count": null,
      "outputs": []
    },
    {
      "cell_type": "code",
      "source": [
        "# Define a list of sentences containing at least three different sentences related to everyday topics of your choice.\n",
        "sentences = ['She picked a beautiful rose from the garden', 'The price of the stocks rose sharply in the market.',\"rose did her best to get the best marks\"]"
      ],
      "metadata": {
        "id": "4a_yAQbD1gbk"
      },
      "execution_count": null,
      "outputs": []
    },
    {
      "cell_type": "code",
      "source": [
        "# Generate ELMo embeddings for the sentences using the loaded model.\n",
        "embeddings = elmo.signatures[\"default\"](tf.constant(sentences))[\"elmo\"]\n",
        "embeddings"
      ],
      "metadata": {
        "colab": {
          "base_uri": "https://localhost:8080/"
        },
        "id": "FxoZiinc2h8g",
        "outputId": "38b4593a-1303-4879-8dd7-54e932548d43"
      },
      "execution_count": null,
      "outputs": [
        {
          "output_type": "execute_result",
          "data": {
            "text/plain": [
              "<tf.Tensor: shape=(3, 10, 1024), dtype=float32, numpy=\n",
              "array([[[-1.33784223e+00, -7.13869393e-01, -2.82665730e-01, ...,\n",
              "         -9.14046526e-01,  2.60834157e-01, -8.57475549e-02],\n",
              "        [-1.15208820e-01, -2.34767273e-01, -4.41952884e-01, ...,\n",
              "          1.08940810e-01,  4.45254445e-01,  1.82297334e-01],\n",
              "        [ 1.14443317e-01, -1.04731262e-01, -2.00744689e-01, ...,\n",
              "         -3.87313627e-02,  2.62035668e-01,  7.73851126e-02],\n",
              "        ...,\n",
              "        [-3.97856921e-01, -4.49496239e-01, -2.24947616e-01, ...,\n",
              "          9.05240402e-02,  1.10258266e-01,  6.81258321e-01],\n",
              "        [-2.84084007e-02, -4.35321555e-02,  4.13016230e-02, ...,\n",
              "          2.58316807e-02, -1.42983571e-02, -1.65042169e-02],\n",
              "        [-2.84084007e-02, -4.35321555e-02,  4.13016230e-02, ...,\n",
              "          2.58316807e-02, -1.42983571e-02, -1.65042169e-02]],\n",
              "\n",
              "       [[-6.46177679e-03,  6.02154434e-03, -3.55983377e-01, ...,\n",
              "         -1.92494452e-01, -1.39857173e-01, -5.89315668e-02],\n",
              "        [-7.09722102e-01, -8.30025196e-01, -5.12913242e-03, ...,\n",
              "         -2.41963565e-01,  1.04529649e-01,  7.22452283e-01],\n",
              "        [ 5.78358769e-04, -2.70356804e-01, -3.46290946e-01, ...,\n",
              "         -1.88056612e+00,  5.49607202e-02, -1.17902756e-02],\n",
              "        ...,\n",
              "        [-1.08778477e-06,  2.74733961e-01,  2.28548497e-02, ...,\n",
              "         -4.34642732e-01,  1.46447197e-01, -8.05512592e-02],\n",
              "        [-6.29394203e-02,  2.48482138e-01, -9.08877254e-02, ...,\n",
              "          3.13893437e-01,  3.95826012e-01, -4.05430287e-01],\n",
              "        [ 1.50751650e-01, -8.08674246e-02, -4.08409953e-01, ...,\n",
              "         -1.07204728e-01,  3.23389798e-01,  4.26588088e-01]],\n",
              "\n",
              "       [[ 2.96300113e-01, -6.67000487e-02,  2.32052296e-01, ...,\n",
              "          1.13932863e-02,  5.42420566e-01,  5.43392122e-01],\n",
              "        [-1.10902876e-01,  2.23740160e-01,  6.87925443e-02, ...,\n",
              "         -2.61848509e-01,  1.30380243e-01,  1.28130451e-01],\n",
              "        [-6.47677481e-01, -4.46442604e-01,  2.20964700e-01, ...,\n",
              "         -1.72631443e-01, -2.77975202e-03,  4.93457243e-02],\n",
              "        ...,\n",
              "        [-3.00922513e-01, -1.75669566e-01,  3.48394334e-01, ...,\n",
              "         -2.97909617e-01, -1.02797970e-01,  9.80002880e-01],\n",
              "        [-8.51765424e-02,  3.67860377e-01,  5.11298060e-01, ...,\n",
              "         -1.70074195e-01,  6.02525137e-02,  6.71376109e-01],\n",
              "        [-2.84084007e-02, -4.35321555e-02,  4.13016230e-02, ...,\n",
              "          2.58316807e-02, -1.42983571e-02, -1.65042169e-02]]],\n",
              "      dtype=float32)>"
            ]
          },
          "metadata": {},
          "execution_count": 58
        }
      ]
    },
    {
      "cell_type": "markdown",
      "source": [
        "Task 2: Embedding Analysis\n",
        "Print the embeddings for each sentence to understand their dimensions and structure.\n",
        "Calculate the cosine similarity between embeddings of any two sentences using the embeddings and numpy."
      ],
      "metadata": {
        "id": "QRqVAc9P3ihN"
      }
    },
    {
      "cell_type": "code",
      "source": [
        "#get the ELMo embeddings for the 3 words in the 3 different sentences\n",
        "for sentence in sentences:\n",
        "  dictionary={}\n",
        "  for i, word in enumerate(sentence.split()):\n",
        "    dictionary[word]=i\n",
        "  print(dictionary)\n",
        "  print(\"the worsd rose in index\",dictionary[\"rose\"])\n",
        "\n"
      ],
      "metadata": {
        "colab": {
          "base_uri": "https://localhost:8080/"
        },
        "id": "NmoleMKU2q1e",
        "outputId": "2ff0f3ba-381d-487b-a383-38ab35f438ef"
      },
      "execution_count": null,
      "outputs": [
        {
          "output_type": "stream",
          "name": "stdout",
          "text": [
            "{'She': 0, 'picked': 1, 'a': 2, 'beautiful': 3, 'rose': 4, 'from': 5, 'the': 6, 'garden': 7}\n",
            "the worsd rose in index 4\n",
            "{'The': 0, 'price': 1, 'of': 2, 'the': 8, 'stocks': 4, 'rose': 5, 'sharply': 6, 'in': 7, 'market.': 9}\n",
            "the worsd rose in index 5\n",
            "{'rose': 0, 'did': 1, 'her': 2, 'best': 7, 'to': 4, 'get': 5, 'the': 6, 'marks': 8}\n",
            "the worsd rose in index 0\n"
          ]
        }
      ]
    },
    {
      "cell_type": "code",
      "source": [
        "rose_flower_embedding = embeddings.numpy()[0][4]\n",
        "rose_verb_embedding = embeddings.numpy()[1][5]\n",
        "rose_a_girl_embedding = embeddings.numpy()[2][0]\n"
      ],
      "metadata": {
        "id": "yZcHzIUs-ZBm"
      },
      "execution_count": null,
      "outputs": []
    },
    {
      "cell_type": "markdown",
      "source": [
        "Embedding vectors"
      ],
      "metadata": {
        "id": "nNzwizK7-fDj"
      }
    },
    {
      "cell_type": "code",
      "source": [
        "print(\"Embedding vector for 'rose' (flower):\", rose_flower_embedding)\n",
        "print(\"Embedding vector for 'rose' (verb means rising):\", rose_verb_embedding)\n",
        "print(\"Embedding vector for 'rose' (name of girl):\",rose_a_girl_embedding )\n",
        "\n"
      ],
      "metadata": {
        "colab": {
          "base_uri": "https://localhost:8080/"
        },
        "id": "XZoSlKGD-eoW",
        "outputId": "37370e24-a6cf-4bc4-f6a1-04a0e7137cfd"
      },
      "execution_count": null,
      "outputs": [
        {
          "output_type": "stream",
          "name": "stdout",
          "text": [
            "Embedding vector for 'rose' (flower): [-0.42848507 -0.0364178   0.0015887  ... -0.14616325  0.62364775\n",
            "  0.44641864]\n",
            "Embedding vector for 'rose' (verb means rising): [-0.10704045  0.10270482 -0.01520231 ... -0.14332297  0.22515613\n",
            "  0.07030857]\n",
            "Embedding vector for 'rose' (name of girl): [ 0.2963001  -0.06670005  0.2320523  ...  0.01139329  0.54242057\n",
            "  0.5433921 ]\n"
          ]
        }
      ]
    },
    {
      "cell_type": "code",
      "source": [
        "embeddings.numpy().shape"
      ],
      "metadata": {
        "colab": {
          "base_uri": "https://localhost:8080/"
        },
        "id": "kN8A6IbI-7M7",
        "outputId": "1ff1efda-fdd2-4bcf-b587-8c44309a2e61"
      },
      "execution_count": null,
      "outputs": [
        {
          "output_type": "execute_result",
          "data": {
            "text/plain": [
              "(3, 10, 1024)"
            ]
          },
          "metadata": {},
          "execution_count": 62
        }
      ]
    },
    {
      "cell_type": "markdown",
      "source": [
        "Cosine similarity of any of the 2 words using the embeddings and numpy."
      ],
      "metadata": {
        "id": "fo_6pZdo_EUq"
      }
    },
    {
      "cell_type": "code",
      "source": [
        "def cosine_similarity(v1, v2):\n",
        "    dot_product = np.dot(v1, v2)\n",
        "    norm_v1 = np.linalg.norm(v1)\n",
        "    norm_v2 = np.linalg.norm(v2)\n",
        "    return dot_product / (norm_v1 * norm_v2)\n",
        "similarity_score = cosine_similarity(rose_flower_embedding, rose_verb_embedding)\n",
        "similarity_score1 = cosine_similarity(rose_flower_embedding, rose_a_girl_embedding)\n",
        "similarity_score2 = cosine_similarity(rose_verb_embedding, rose_a_girl_embedding)\n",
        "\n",
        "\n",
        "\n",
        "print(\"Cosine similarity between 'rose' (flower) and 'rose' (verb):\", similarity_score)\n",
        "print(\"Cosine similarity between 'rose' (flower) and 'rose' (name of a girl):\", similarity_score1)\n",
        "print(\"Cosine similarity between 'rose' (verb) and 'rose' (name of a girl):\", similarity_score2)\n"
      ],
      "metadata": {
        "colab": {
          "base_uri": "https://localhost:8080/"
        },
        "id": "NZvNoHDF_Bi4",
        "outputId": "3abf7dcf-d39d-4881-d5c0-aa3cf5d1aed5"
      },
      "execution_count": null,
      "outputs": [
        {
          "output_type": "stream",
          "name": "stdout",
          "text": [
            "Cosine similarity between 'rose' (flower) and 'rose' (verb): 0.46246713\n",
            "Cosine similarity between 'rose' (flower) and 'rose' (name of a girl): 0.5594279\n",
            "Cosine similarity between 'rose' (verb) and 'rose' (name of a girl): 0.5785717\n"
          ]
        }
      ]
    },
    {
      "cell_type": "markdown",
      "source": [
        "Cosine similarity of any of the 2 words using built in cosine similarity function"
      ],
      "metadata": {
        "id": "C4bSDUG2CZ5-"
      }
    },
    {
      "cell_type": "code",
      "source": [
        "from scipy import spatial"
      ],
      "metadata": {
        "id": "CnG2BJYhAUPE"
      },
      "execution_count": null,
      "outputs": []
    },
    {
      "cell_type": "code",
      "source": [
        "similarity= 1- spatial.distance.cosine(rose_flower_embedding,rose_verb_embedding)\n",
        "print(\"cosine similarity of rose as a verb meaning rise and rose as a flower\",similarity)\n",
        "similarity2= 1- spatial.distance.cosine(rose_flower_embedding,rose_a_girl_embedding)\n",
        "print(\"Cosine similarity between 'rose' (flower) and 'rose' (name of a girl):\", similarity2)\n",
        "similarity3= 1- spatial.distance.cosine(rose_verb_embedding,rose_a_girl_embedding)\n",
        "print(\"Cosine similarity between 'rose' (verb) and 'rose' (name of a girl):\", similarity3)\n",
        "\n",
        "\n",
        "\n"
      ],
      "metadata": {
        "colab": {
          "base_uri": "https://localhost:8080/"
        },
        "id": "DaN9dHS0_9ra",
        "outputId": "21fe8e52-d460-4bd8-d459-2f9f42b5f697"
      },
      "execution_count": null,
      "outputs": [
        {
          "output_type": "stream",
          "name": "stdout",
          "text": [
            "cosine similarity of rose as a verb meaning rise and rose as a flower 0.4624670743942261\n",
            "Cosine similarity between 'rose' (flower) and 'rose' (name of a girl): 0.5594279170036316\n",
            "Cosine similarity between 'rose' (verb) and 'rose' (name of a girl): 0.5785715579986572\n"
          ]
        }
      ]
    }
  ]
}